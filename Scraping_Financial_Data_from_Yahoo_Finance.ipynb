{
  "nbformat": 4,
  "nbformat_minor": 0,
  "metadata": {
    "colab": {
      "name": "Scraping Financial Data from Yahoo Finance.ipynb",
      "provenance": [],
      "collapsed_sections": [],
      "authorship_tag": "ABX9TyP7dqAwSDzOAor84CC7lqL5",
      "include_colab_link": true
    },
    "kernelspec": {
      "name": "python3",
      "display_name": "Python 3"
    }
  },
  "cells": [
    {
      "cell_type": "markdown",
      "metadata": {
        "id": "view-in-github",
        "colab_type": "text"
      },
      "source": [
        "<a href=\"https://colab.research.google.com/github/BearsOnMars/baby-alpha/blob/main/Scraping_Financial_Data_from_Yahoo_Finance.ipynb\" target=\"_parent\"><img src=\"https://colab.research.google.com/assets/colab-badge.svg\" alt=\"Open In Colab\"/></a>"
      ]
    },
    {
      "cell_type": "markdown",
      "metadata": {
        "id": "RxYw4s4zZuqt"
      },
      "source": [
        "Scraping data using 'hidden APIs' method and 'extracting embedded json formatted data' method. These can be easily converted to a python dictionary. Standard libraries are used"
      ]
    },
    {
      "cell_type": "code",
      "metadata": {
        "colab": {
          "base_uri": "https://localhost:8080/"
        },
        "id": "wsIPFEQ1TbMr",
        "outputId": "aa71ebd9-97c7-45c9-bbf6-888ca1f68a9b"
      },
      "source": [
        "import re\r\n",
        "import json\r\n",
        "import csv\r\n",
        "from io import StringIO\r\n",
        "# Installing Beautiful Soup and Requests package. Note the exclamation mark at the beginning\r\n",
        "# In Google Colab, we can run a console command by starting with a ! followed by the command\r\n",
        "!pip install bs4\r\n",
        "!pip install requests\r\n",
        "from bs4 import BeautifulSoup\r\n",
        "import requests"
      ],
      "execution_count": 1,
      "outputs": [
        {
          "output_type": "stream",
          "text": [
            "Requirement already satisfied: bs4 in /usr/local/lib/python3.6/dist-packages (0.0.1)\n",
            "Requirement already satisfied: beautifulsoup4 in /usr/local/lib/python3.6/dist-packages (from bs4) (4.6.3)\n",
            "Requirement already satisfied: requests in /usr/local/lib/python3.6/dist-packages (2.23.0)\n",
            "Requirement already satisfied: certifi>=2017.4.17 in /usr/local/lib/python3.6/dist-packages (from requests) (2020.12.5)\n",
            "Requirement already satisfied: urllib3!=1.25.0,!=1.25.1,<1.26,>=1.21.1 in /usr/local/lib/python3.6/dist-packages (from requests) (1.24.3)\n",
            "Requirement already satisfied: chardet<4,>=3.0.2 in /usr/local/lib/python3.6/dist-packages (from requests) (3.0.4)\n",
            "Requirement already satisfied: idna<3,>=2.5 in /usr/local/lib/python3.6/dist-packages (from requests) (2.10)\n"
          ],
          "name": "stdout"
        }
      ]
    },
    {
      "cell_type": "markdown",
      "metadata": {
        "id": "VTX3QP3TZMOz"
      },
      "source": [
        "Going to Yahoo Finance now, entering relevant stock ticker in search. Data can be extracted for any tab i.e. statistics, historical data, financials, options. went and searched for The Coca-Cola company. copying the url for the tabs we are interested in scraping. In place of the stock ticker symbol such as KO for Coca-Cola in these similar looking urls, if we use {}, it becomes easier at later stages to insert any new symbol with string formatting at a later stage."
      ]
    },
    {
      "cell_type": "code",
      "metadata": {
        "id": "gvBGM-RuU0uP"
      },
      "source": [
        "url_stats = 'https://finance.yahoo.com/quote/{}/key-statistics?p={}'\r\n",
        "url_profile = 'https://finance.yahoo.com/quote/{}/profile?p={}'\r\n",
        "url_financials = 'https://finance.yahoo.com/quote/{}/financials?p={}'"
      ],
      "execution_count": null,
      "outputs": []
    },
    {
      "cell_type": "code",
      "metadata": {
        "id": "KW-VF7TFZR0d"
      },
      "source": [
        "# Assigning KO to stock Coca Cola so as to look it up on Yahoo finance for the ticker\r\n",
        "stock = 'KO'"
      ],
      "execution_count": null,
      "outputs": []
    },
    {
      "cell_type": "markdown",
      "metadata": {
        "id": "VYfiEp9_Z7H1"
      },
      "source": [
        "Scraping Financial Statements. Using git request(?) even data which can not be seen in the website can be downloaded. Using financials url template to request the stock data using request library. Response is assigned to a response variable"
      ]
    },
    {
      "cell_type": "code",
      "metadata": {
        "id": "FXTLoWkZe3Ea"
      },
      "source": [
        "response = requests.get(url_financials.format(stock, stock))"
      ],
      "execution_count": null,
      "outputs": []
    },
    {
      "cell_type": "code",
      "metadata": {
        "id": "Hp4YR1-gfB1a"
      },
      "source": [
        "# HTML data is parsed using BeautifulSoup and default HTML parser\r\n",
        "soup = BeautifulSoup(response.text, 'html.parser')"
      ],
      "execution_count": null,
      "outputs": []
    },
    {
      "cell_type": "markdown",
      "metadata": {
        "id": "fklGx9mOaGaZ"
      },
      "source": [
        "Going back to the webpage now to look at raw data by right-click 'view page source'. The webpage is dynamically loading data from the javascript function contained within the script tag. The comment /* -- Data --*/ contains all data which is dynamically being loaded on to the page. Since, the data is embedded in a javascript function, we need to get the script tag first, then extract the contents from it, chop the edges off so that we are just left with the json formatted string, which can then be converted to a python dictionary. There is no unique id tag for the script, so we need to use a text pattern with regular expressions"
      ]
    },
    {
      "cell_type": "code",
      "metadata": {
        "id": "gba1SlApf49a"
      },
      "source": [
        "pattern = re.compile(r'\\s--\\sData\\s--\\s')"
      ],
      "execution_count": null,
      "outputs": []
    },
    {
      "cell_type": "markdown",
      "metadata": {
        "id": "LSFYF2XVaZ1b"
      },
      "source": [
        "using this pattern now find the script element that has text which matches this pattern. return the contents of this element as a list. grab the first and only item in the list\r\n"
      ]
    },
    {
      "cell_type": "code",
      "metadata": {
        "id": "x6fzQRkCaZKN"
      },
      "source": [
        "script_data = soup.find('script', text=pattern).contents[0]"
      ],
      "execution_count": null,
      "outputs": []
    },
    {
      "cell_type": "code",
      "metadata": {
        "colab": {
          "base_uri": "https://localhost:8080/",
          "height": 70
        },
        "id": "u3u6cWhmlR7m",
        "outputId": "5506d999-bd71-4cf1-87db-fc6b3574ac64"
      },
      "source": [
        "# Printing the beginning and the ending 500 characters of the script data\r\n",
        "# Notice the colon at start in beginning \r\n",
        "script_data[:500]"
      ],
      "execution_count": null,
      "outputs": [
        {
          "output_type": "execute_result",
          "data": {
            "application/vnd.google.colaboratory.intrinsic+json": {
              "type": "string"
            },
            "text/plain": [
              "'\\n(function (root) {\\n/* -- Data -- */\\nroot.App || (root.App = {});\\nroot.App.now = 1613442438994;\\nroot.App.main = {\"context\":{\"dispatcher\":{\"stores\":{\"PageStore\":{\"currentPageName\":\"quote\",\"currentEvent\":{\"eventName\":\"NEW_PAGE_SUCCESS\"},\"currentRenderTargetId\":\"default\",\"pagesConfigRaw\":{\"base\":{\"quote\":{\"layout\":{\"bundleName\":\"yahoodotcom-layout.TwoColumnLayout\",\"name\":\"TwoColumnLayout\",\"config\":{\"enableHeaderCollapse\":true,\"additionalBodyWrapperClasses\":\"Bgc($layoutBgColor)!\",\"contentWrapperClas'"
            ]
          },
          "metadata": {
            "tags": []
          },
          "execution_count": 33
        }
      ]
    },
    {
      "cell_type": "code",
      "metadata": {
        "colab": {
          "base_uri": "https://localhost:8080/",
          "height": 70
        },
        "id": "AYSUa0cEmvj9",
        "outputId": "ef8963d1-843b-489f-bc63-74a23929f7d4"
      },
      "source": [
        "# Notice the negative sign and the colon at the end while printing ending\r\n",
        "script_data[-500:]"
      ],
      "execution_count": null,
      "outputs": [
        {
          "output_type": "execute_result",
          "data": {
            "application/vnd.google.colaboratory.intrinsic+json": {
              "type": "string"
            },
            "text/plain": [
              "'put\":{\"strings\":1},\"tdv2-applet-sponsored-moments\":{\"strings\":1},\"tdv2-applet-stream\":{\"strings\":1},\"tdv2-applet-stream-hero\":{\"strings\":1},\"tdv2-applet-swisschamp\":{\"strings\":1},\"tdv2-applet-uh\":{\"strings\":1},\"tdv2-applet-userintent\":{\"strings\":1},\"tdv2-applet-video-lightbox\":{\"strings\":1},\"tdv2-applet-video-modal\":{\"strings\":1},\"tdv2-wafer-adfeedback\":{\"strings\":1},\"tdv2-wafer-header\":{\"strings\":1},\"yahoodotcom-layout\":{\"strings\":1}}},\"options\":{\"defaultBundle\":\"td-app-finance\"}}}};\\n}(this));\\n'"
            ]
          },
          "metadata": {
            "tags": []
          },
          "execution_count": 34
        }
      ]
    },
    {
      "cell_type": "markdown",
      "metadata": {
        "id": "8YqSpnKgaoM4"
      },
      "source": [
        "The problem now is that we have this javascript code wrapping the data which we actually want. To do that we need to find the boundaries of this slice. We can see in the beginning 500 char, it starts with \"context\" the starting position would be 2 characters behind the beginning of the word 'context'"
      ]
    },
    {
      "cell_type": "code",
      "metadata": {
        "id": "79U_g6rQmhzr"
      },
      "source": [
        "start = script_data.find(\"context\")-2"
      ],
      "execution_count": null,
      "outputs": []
    },
    {
      "cell_type": "markdown",
      "metadata": {
        "id": "ND9yseO2dloT"
      },
      "source": [
        "the ending position would be 12 characters from the end. After that patch this sliced text into the json loads function, to get a python dictionary back"
      ]
    },
    {
      "cell_type": "code",
      "metadata": {
        "id": "KbE8RGbGo4rC"
      },
      "source": [
        "json_data = json.loads(script_data[start:-12])"
      ],
      "execution_count": null,
      "outputs": []
    },
    {
      "cell_type": "code",
      "metadata": {
        "colab": {
          "base_uri": "https://localhost:8080/"
        },
        "id": "XIWKvvmBpaEY",
        "outputId": "934105d6-f916-4942-c802-832eca2204dc"
      },
      "source": [
        "# Using the keys method, it could be found where data for financial statements is loacted in the context, dispacher, stores and QuoteSummaryStore\r\n",
        "json_data['context'].keys()"
      ],
      "execution_count": null,
      "outputs": [
        {
          "output_type": "execute_result",
          "data": {
            "text/plain": [
              "dict_keys(['dispatcher', 'options', 'plugins'])"
            ]
          },
          "metadata": {
            "tags": []
          },
          "execution_count": 40
        }
      ]
    },
    {
      "cell_type": "code",
      "metadata": {
        "colab": {
          "base_uri": "https://localhost:8080/"
        },
        "id": "e1mbuZtlqsTB",
        "outputId": "ad5ee287-95ff-439a-c70d-9930ba50a10e"
      },
      "source": [
        "json_data['context']['dispatcher']['stores']['QuoteSummaryStore'].keys()"
      ],
      "execution_count": null,
      "outputs": [
        {
          "output_type": "execute_result",
          "data": {
            "text/plain": [
              "dict_keys(['financialsTemplate', 'cashflowStatementHistory', 'balanceSheetHistoryQuarterly', 'earnings', 'price', 'incomeStatementHistoryQuarterly', 'incomeStatementHistory', 'balanceSheetHistory', 'cashflowStatementHistoryQuarterly', 'quoteType', 'summaryDetail', 'symbol', 'pageViews'])"
            ]
          },
          "metadata": {
            "tags": []
          },
          "execution_count": 42
        }
      ]
    },
    {
      "cell_type": "code",
      "metadata": {
        "id": "diDXiLzurzoC"
      },
      "source": [
        ""
      ],
      "execution_count": null,
      "outputs": []
    },
    {
      "cell_type": "markdown",
      "metadata": {
        "id": "YKCb-B8T4PfJ"
      },
      "source": [
        "# New section"
      ]
    }
  ]
}