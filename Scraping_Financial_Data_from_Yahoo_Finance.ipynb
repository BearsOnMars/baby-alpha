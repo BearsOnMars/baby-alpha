{
  "nbformat": 4,
  "nbformat_minor": 0,
  "metadata": {
    "colab": {
      "name": "Scraping Financial Data from Yahoo Finance.ipynb",
      "provenance": [],
      "collapsed_sections": [],
      "authorship_tag": "ABX9TyOgge7v5/SF8rpt/7CJjJpp",
      "include_colab_link": true
    },
    "kernelspec": {
      "name": "python3",
      "display_name": "Python 3"
    }
  },
  "cells": [
    {
      "cell_type": "markdown",
      "metadata": {
        "id": "view-in-github",
        "colab_type": "text"
      },
      "source": [
        "<a href=\"https://colab.research.google.com/github/BearsOnMars/baby-alpha/blob/main/Scraping_Financial_Data_from_Yahoo_Finance.ipynb\" target=\"_parent\"><img src=\"https://colab.research.google.com/assets/colab-badge.svg\" alt=\"Open In Colab\"/></a>"
      ]
    },
    {
      "cell_type": "markdown",
      "metadata": {
        "id": "RxYw4s4zZuqt"
      },
      "source": [
        "Scraping data using 'hidden APIs' method and 'extracting embedded json formatted data' method. These can be easily converted to a python dictionary. Standard libraries are used"
      ]
    },
    {
      "cell_type": "code",
      "metadata": {
        "colab": {
          "base_uri": "https://localhost:8080/"
        },
        "id": "wsIPFEQ1TbMr",
        "outputId": "625ff26f-50b0-4b0f-d413-e88afc5d8099"
      },
      "source": [
        "import re\r\n",
        "import json\r\n",
        "import csv\r\n",
        "from io import StringIO\r\n",
        "# Installing Beautiful Soup and Requests package. Note the exclamation mark at the beginning\r\n",
        "# In Google Colab, we can run a console command by starting with a ! followed by the command\r\n",
        "!pip install bs4\r\n",
        "!pip install requests\r\n",
        "from bs4 import BeautifulSoup\r\n",
        "import requests"
      ],
      "execution_count": null,
      "outputs": [
        {
          "output_type": "stream",
          "text": [
            "Requirement already satisfied: bs4 in /usr/local/lib/python3.6/dist-packages (0.0.1)\n",
            "Requirement already satisfied: beautifulsoup4 in /usr/local/lib/python3.6/dist-packages (from bs4) (4.6.3)\n",
            "Requirement already satisfied: requests in /usr/local/lib/python3.6/dist-packages (2.23.0)\n",
            "Requirement already satisfied: certifi>=2017.4.17 in /usr/local/lib/python3.6/dist-packages (from requests) (2020.12.5)\n",
            "Requirement already satisfied: chardet<4,>=3.0.2 in /usr/local/lib/python3.6/dist-packages (from requests) (3.0.4)\n",
            "Requirement already satisfied: idna<3,>=2.5 in /usr/local/lib/python3.6/dist-packages (from requests) (2.10)\n",
            "Requirement already satisfied: urllib3!=1.25.0,!=1.25.1,<1.26,>=1.21.1 in /usr/local/lib/python3.6/dist-packages (from requests) (1.24.3)\n"
          ],
          "name": "stdout"
        }
      ]
    },
    {
      "cell_type": "markdown",
      "metadata": {
        "id": "VTX3QP3TZMOz"
      },
      "source": [
        "Going to Yahoo Finance now, entering relevant stock ticker in search. Data can be extracted for any tab i.e. statistics, historical data, financials, options. went and searched for The Coca-Cola company. copying the url for the tabs we are interested in scraping. In place of the stock ticker symbol such as KO for Coca-Cola in these similar looking urls, if we use {}, it becomes easier at later stages to insert any new symbol with string formatting at a later stage."
      ]
    },
    {
      "cell_type": "code",
      "metadata": {
        "id": "gvBGM-RuU0uP"
      },
      "source": [
        "url_stats = 'https://finance.yahoo.com/quote/{}/key-statistics?p={}'\r\n",
        "url_profile = 'https://finance.yahoo.com/quote/{}/profile?p={}'\r\n",
        "url_financials = 'https://finance.yahoo.com/quote/{}/financials?p={}'"
      ],
      "execution_count": null,
      "outputs": []
    },
    {
      "cell_type": "code",
      "metadata": {
        "id": "KW-VF7TFZR0d"
      },
      "source": [
        "# Assigning KO to stock Coca Cola so as to look it up on Yahoo finance for the ticker\r\n",
        "stock = 'KO'"
      ],
      "execution_count": null,
      "outputs": []
    },
    {
      "cell_type": "markdown",
      "metadata": {
        "id": "VYfiEp9_Z7H1"
      },
      "source": [
        "Scraping Financial Statements. Using git request(?) even data which can not be seen in the website can be downloaded. Using financials url template to request the stock data using request library. Response is assigned to a response variable"
      ]
    },
    {
      "cell_type": "code",
      "metadata": {
        "id": "FXTLoWkZe3Ea"
      },
      "source": [
        "response = requests.get(url_financials.format(stock, stock))"
      ],
      "execution_count": null,
      "outputs": []
    },
    {
      "cell_type": "code",
      "metadata": {
        "id": "Hp4YR1-gfB1a"
      },
      "source": [
        "# HTML data is parsed using BeautifulSoup and default HTML parser\r\n",
        "soup = BeautifulSoup(response.text, 'html.parser')"
      ],
      "execution_count": null,
      "outputs": []
    },
    {
      "cell_type": "markdown",
      "metadata": {
        "id": "fklGx9mOaGaZ"
      },
      "source": [
        "Going back to the webpage now to look at raw data by right-click 'view page source'. The webpage is dynamically loading data from the javascript function contained within the script tag. The comment /* -- Data --*/ contains all data which is dynamically being loaded on to the page. Since, the data is embedded in a javascript function, we need to get the script tag first, then extract the contents from it, chop the edges off so that we are just left with the json formatted string, which can then be converted to a python dictionary. There is no unique id tag for the script, so we need to use a text pattern with regular expressions"
      ]
    },
    {
      "cell_type": "code",
      "metadata": {
        "id": "gba1SlApf49a"
      },
      "source": [
        "pattern = re.compile(r'\\s--\\sData\\s--\\s')"
      ],
      "execution_count": null,
      "outputs": []
    },
    {
      "cell_type": "markdown",
      "metadata": {
        "id": "LSFYF2XVaZ1b"
      },
      "source": [
        "using this pattern now find the script element that has text which matches this pattern. return the contents of this element as a list. grab the first and only item in the list\r\n"
      ]
    },
    {
      "cell_type": "code",
      "metadata": {
        "id": "x6fzQRkCaZKN"
      },
      "source": [
        "script_data = soup.find('script', text=pattern).contents[0]"
      ],
      "execution_count": null,
      "outputs": []
    },
    {
      "cell_type": "code",
      "metadata": {
        "colab": {
          "base_uri": "https://localhost:8080/",
          "height": 70
        },
        "id": "u3u6cWhmlR7m",
        "outputId": "a3ae3c35-fad5-4eaf-c3d7-321572f67454"
      },
      "source": [
        "# Printing the beginning and the ending 500 characters of the script data\r\n",
        "# Notice the colon at start in beginning \r\n",
        "script_data[:500]"
      ],
      "execution_count": null,
      "outputs": [
        {
          "output_type": "execute_result",
          "data": {
            "application/vnd.google.colaboratory.intrinsic+json": {
              "type": "string"
            },
            "text/plain": [
              "'\\n(function (root) {\\n/* -- Data -- */\\nroot.App || (root.App = {});\\nroot.App.now = 1613775445144;\\nroot.App.main = {\"context\":{\"dispatcher\":{\"stores\":{\"PageStore\":{\"currentPageName\":\"quote\",\"currentEvent\":{\"eventName\":\"NEW_PAGE_SUCCESS\"},\"currentRenderTargetId\":\"default\",\"pagesConfigRaw\":{\"base\":{\"quote\":{\"layout\":{\"bundleName\":\"yahoodotcom-layout.TwoColumnLayout\",\"name\":\"TwoColumnLayout\",\"config\":{\"enableHeaderCollapse\":true,\"additionalBodyWrapperClasses\":\"Bgc($layoutBgColor)!\",\"contentWrapperClas'"
            ]
          },
          "metadata": {
            "tags": []
          },
          "execution_count": 10
        }
      ]
    },
    {
      "cell_type": "code",
      "metadata": {
        "colab": {
          "base_uri": "https://localhost:8080/",
          "height": 70
        },
        "id": "AYSUa0cEmvj9",
        "outputId": "85fc2e56-059d-483c-e459-6cdff125a5e2"
      },
      "source": [
        "# Notice the negative sign and the colon at the end while printing ending\r\n",
        "script_data[-500:]"
      ],
      "execution_count": null,
      "outputs": [
        {
          "output_type": "execute_result",
          "data": {
            "application/vnd.google.colaboratory.intrinsic+json": {
              "type": "string"
            },
            "text/plain": [
              "'put\":{\"strings\":1},\"tdv2-applet-sponsored-moments\":{\"strings\":1},\"tdv2-applet-stream\":{\"strings\":1},\"tdv2-applet-stream-hero\":{\"strings\":1},\"tdv2-applet-swisschamp\":{\"strings\":1},\"tdv2-applet-uh\":{\"strings\":1},\"tdv2-applet-userintent\":{\"strings\":1},\"tdv2-applet-video-lightbox\":{\"strings\":1},\"tdv2-applet-video-modal\":{\"strings\":1},\"tdv2-wafer-adfeedback\":{\"strings\":1},\"tdv2-wafer-header\":{\"strings\":1},\"yahoodotcom-layout\":{\"strings\":1}}},\"options\":{\"defaultBundle\":\"td-app-finance\"}}}};\\n}(this));\\n'"
            ]
          },
          "metadata": {
            "tags": []
          },
          "execution_count": 11
        }
      ]
    },
    {
      "cell_type": "markdown",
      "metadata": {
        "id": "8YqSpnKgaoM4"
      },
      "source": [
        "The problem now is that we have this javascript code wrapping the data which we actually want. To do that we need to find the boundaries of this slice. We can see in the beginning 500 char, it starts with \"context\" the starting position would be 2 characters behind the beginning of the word 'context'"
      ]
    },
    {
      "cell_type": "code",
      "metadata": {
        "id": "79U_g6rQmhzr"
      },
      "source": [
        "start = script_data.find(\"context\")-2"
      ],
      "execution_count": null,
      "outputs": []
    },
    {
      "cell_type": "markdown",
      "metadata": {
        "id": "ND9yseO2dloT"
      },
      "source": [
        "the ending position would be 12 characters from the end. After that patch this sliced text into the json loads function, to get a python dictionary back"
      ]
    },
    {
      "cell_type": "code",
      "metadata": {
        "id": "KbE8RGbGo4rC"
      },
      "source": [
        "json_data = json.loads(script_data[start:-12])"
      ],
      "execution_count": null,
      "outputs": []
    },
    {
      "cell_type": "code",
      "metadata": {
        "colab": {
          "base_uri": "https://localhost:8080/"
        },
        "id": "XIWKvvmBpaEY",
        "outputId": "879cdfcf-71b8-4b54-bfb0-de8ac42df279"
      },
      "source": [
        "# Using the keys method, it could be found where data for financial statements is loacted in the context, dispacher, stores and QuoteSummaryStore\r\n",
        "json_data['context'].keys()"
      ],
      "execution_count": null,
      "outputs": [
        {
          "output_type": "execute_result",
          "data": {
            "text/plain": [
              "dict_keys(['dispatcher', 'options', 'plugins'])"
            ]
          },
          "metadata": {
            "tags": []
          },
          "execution_count": 14
        }
      ]
    },
    {
      "cell_type": "code",
      "metadata": {
        "colab": {
          "base_uri": "https://localhost:8080/"
        },
        "id": "e1mbuZtlqsTB",
        "outputId": "42780338-469d-42f6-ba7f-e9dc5d8d16cb"
      },
      "source": [
        "json_data['context']['dispatcher']['stores']['QuoteSummaryStore'].keys()"
      ],
      "execution_count": null,
      "outputs": [
        {
          "output_type": "execute_result",
          "data": {
            "text/plain": [
              "dict_keys(['financialsTemplate', 'cashflowStatementHistory', 'balanceSheetHistoryQuarterly', 'earnings', 'price', 'incomeStatementHistoryQuarterly', 'incomeStatementHistory', 'balanceSheetHistory', 'cashflowStatementHistoryQuarterly', 'quoteType', 'summaryDetail', 'symbol', 'pageViews'])"
            ]
          },
          "metadata": {
            "tags": []
          },
          "execution_count": 16
        }
      ]
    },
    {
      "cell_type": "code",
      "metadata": {
        "id": "diDXiLzurzoC"
      },
      "source": [
        "annual_is = json_data['context']['dispatcher']['stores']['QuoteSummaryStore']['incomeStatementHistory']['incomeStatementHistory']\r\n",
        "quarterly_is = json_data['context']['dispatcher']['stores']['QuoteSummaryStore']['incomeStatementHistoryQuarterly']['incomeStatementHistory']\r\n",
        "\r\n",
        "annual_cf = json_data['context']['dispatcher']['stores']['QuoteSummaryStore']['cashflowStatementHistory']['cashflowStatements']\r\n",
        "quarterly_cf = json_data['context']['dispatcher']['stores']['QuoteSummaryStore']['cashflowStatementHistoryQuarterly']['cashflowStatements']\r\n",
        "\r\n",
        "annual_bs = json_data['context']['dispatcher']['stores']['QuoteSummaryStore']['balanceSheetHistory']['balanceSheetStatements']\r\n",
        "quarterly_bs = json_data['context']['dispatcher']['stores']['QuoteSummaryStore']['balanceSheetHistoryQuarterly']['balanceSheetStatements']"
      ],
      "execution_count": null,
      "outputs": []
    },
    {
      "cell_type": "markdown",
      "metadata": {
        "id": "HTqff4VZkdi2"
      },
      "source": [
        "Exploring income statement variable to discern the pattern and basing the rest of the code on it"
      ]
    },
    {
      "cell_type": "code",
      "metadata": {
        "colab": {
          "base_uri": "https://localhost:8080/"
        },
        "id": "gDrcgwa1jmKy",
        "outputId": "bbfb42c7-1007-44a3-c650-1ff1dc5f0c4e"
      },
      "source": [
        "print(annual_is[0])"
      ],
      "execution_count": null,
      "outputs": [
        {
          "output_type": "stream",
          "text": [
            "{'researchDevelopment': {}, 'effectOfAccountingCharges': {}, 'incomeBeforeTax': {'raw': 9749000000, 'fmt': '9.75B', 'longFmt': '9,749,000,000'}, 'minorityInterest': {'raw': 1985000000, 'fmt': '1.99B', 'longFmt': '1,985,000,000'}, 'netIncome': {'raw': 7747000000, 'fmt': '7.75B', 'longFmt': '7,747,000,000'}, 'sellingGeneralAdministrative': {'raw': 9731000000, 'fmt': '9.73B', 'longFmt': '9,731,000,000'}, 'grossProfit': {'raw': 19581000000, 'fmt': '19.58B', 'longFmt': '19,581,000,000'}, 'ebit': {'raw': 9798000000, 'fmt': '9.8B', 'longFmt': '9,798,000,000'}, 'endDate': {'raw': 1609372800, 'fmt': '2020-12-31'}, 'operatingIncome': {'raw': 9798000000, 'fmt': '9.8B', 'longFmt': '9,798,000,000'}, 'otherOperatingExpenses': {'raw': 52000000, 'fmt': '52M', 'longFmt': '52,000,000'}, 'interestExpense': {'raw': -1437000000, 'fmt': '-1.44B', 'longFmt': '-1,437,000,000'}, 'extraordinaryItems': {}, 'nonRecurring': {}, 'otherItems': {}, 'incomeTaxExpense': {'raw': 1981000000, 'fmt': '1.98B', 'longFmt': '1,981,000,000'}, 'totalRevenue': {'raw': 33014000000, 'fmt': '33.01B', 'longFmt': '33,014,000,000'}, 'totalOperatingExpenses': {'raw': 23216000000, 'fmt': '23.22B', 'longFmt': '23,216,000,000'}, 'costOfRevenue': {'raw': 13433000000, 'fmt': '13.43B', 'longFmt': '13,433,000,000'}, 'totalOtherIncomeExpenseNet': {'raw': -49000000, 'fmt': '-49M', 'longFmt': '-49,000,000'}, 'maxAge': 1, 'discontinuedOperations': {}, 'netIncomeFromContinuingOps': {'raw': 7768000000, 'fmt': '7.77B', 'longFmt': '7,768,000,000'}, 'netIncomeApplicableToCommonShares': {'raw': 7747000000, 'fmt': '7.75B', 'longFmt': '7,747,000,000'}}\n"
          ],
          "name": "stdout"
        }
      ]
    },
    {
      "cell_type": "markdown",
      "metadata": {
        "id": "cndSOk57kzoc"
      },
      "source": [
        "Each statement contains a list of dictionary that contain account name and variety of number formats"
      ]
    },
    {
      "cell_type": "code",
      "metadata": {
        "colab": {
          "base_uri": "https://localhost:8080/"
        },
        "id": "8feFHISaj8AF",
        "outputId": "b485f852-165c-495c-9734-f897a8ce6444"
      },
      "source": [
        "annual_is[0]['operatingIncome']"
      ],
      "execution_count": null,
      "outputs": [
        {
          "output_type": "execute_result",
          "data": {
            "text/plain": [
              "{'fmt': '9.8B', 'longFmt': '9,798,000,000', 'raw': 9798000000}"
            ]
          },
          "metadata": {
            "tags": []
          },
          "execution_count": 20
        }
      ]
    },
    {
      "cell_type": "markdown",
      "metadata": {
        "id": "I5wZ1-mVlXm0"
      },
      "source": [
        "Using 'for' loop to consolidate account and raw number format. As some of these accounts do not contain data or dictionary, we need to handle the resulting TypeError and KeyError. Take care of indentation levels in a for loop"
      ]
    },
    {
      "cell_type": "code",
      "metadata": {
        "id": "AB_uqx7eliu4"
      },
      "source": [
        "annual_is_stmts = []\r\n",
        "\r\n",
        "# consolidate annual\r\n",
        "for s in annual_is:\r\n",
        "    statement = {}\r\n",
        "    for key, val in s.items():\r\n",
        "        try:\r\n",
        "            statement[key] = val['raw']\r\n",
        "        except TypeError:\r\n",
        "            continue\r\n",
        "        except KeyError:\r\n",
        "            continue\r\n",
        "    annual_is_stmts.append(statement)"
      ],
      "execution_count": null,
      "outputs": []
    },
    {
      "cell_type": "markdown",
      "metadata": {
        "id": "svfECfnwnsYv"
      },
      "source": [
        "Using a for loop only the data which is needed can be extracted and exported to a csv file"
      ]
    },
    {
      "cell_type": "code",
      "metadata": {
        "colab": {
          "base_uri": "https://localhost:8080/"
        },
        "id": "I9ByScGPn3Jx",
        "outputId": "d8620a74-dc74-4307-8a64-d765b3a3c6de"
      },
      "source": [
        "annual_is_stmts[0]"
      ],
      "execution_count": null,
      "outputs": [
        {
          "output_type": "execute_result",
          "data": {
            "text/plain": [
              "{'costOfRevenue': 13433000000,\n",
              " 'ebit': 9798000000,\n",
              " 'endDate': 1609372800,\n",
              " 'grossProfit': 19581000000,\n",
              " 'incomeBeforeTax': 9749000000,\n",
              " 'incomeTaxExpense': 1981000000,\n",
              " 'interestExpense': -1437000000,\n",
              " 'minorityInterest': 1985000000,\n",
              " 'netIncome': 7747000000,\n",
              " 'netIncomeApplicableToCommonShares': 7747000000,\n",
              " 'netIncomeFromContinuingOps': 7768000000,\n",
              " 'operatingIncome': 9798000000,\n",
              " 'otherOperatingExpenses': 52000000,\n",
              " 'sellingGeneralAdministrative': 9731000000,\n",
              " 'totalOperatingExpenses': 23216000000,\n",
              " 'totalOtherIncomeExpenseNet': -49000000,\n",
              " 'totalRevenue': 33014000000}"
            ]
          },
          "metadata": {
            "tags": []
          },
          "execution_count": 26
        }
      ]
    },
    {
      "cell_type": "markdown",
      "metadata": {
        "id": "0Hiw0BpEoGgO"
      },
      "source": [
        "Now Replicating this template for other Financial Statements as well by simply changing variable names and references"
      ]
    },
    {
      "cell_type": "code",
      "metadata": {
        "id": "fJy2VS_WoOQJ"
      },
      "source": [
        "annual_cf_stmts = []\r\n",
        "quarterly_cf_stmts = []\r\n",
        "\r\n",
        "# annual cash flow statement\r\n",
        "for s in annual_cf:\r\n",
        "    statement = {}\r\n",
        "    for key, val in s.items():\r\n",
        "        try:\r\n",
        "            statement[key] = val['raw']\r\n",
        "        except TypeError:\r\n",
        "            continue\r\n",
        "        except KeyError:\r\n",
        "            continue\r\n",
        "    annual_cf_stmts.append(statement)\r\n",
        "\r\n",
        "# quarterly cash flow statement\r\n",
        "for s in quarterly_cf:\r\n",
        "    statement = {}\r\n",
        "    for key, val in s.items():\r\n",
        "        try:\r\n",
        "            statement[key] = val['raw']\r\n",
        "        except TypeError:\r\n",
        "            continue\r\n",
        "        except KeyError:\r\n",
        "            continue\r\n",
        "    quarterly_cf_stmts.append(statement)"
      ],
      "execution_count": null,
      "outputs": []
    },
    {
      "cell_type": "code",
      "metadata": {
        "colab": {
          "base_uri": "https://localhost:8080/"
        },
        "id": "3HX2PWKnqM0z",
        "outputId": "7ae3db75-b701-412f-e191-c669289fbe25"
      },
      "source": [
        "annual_cf_stmts[0]"
      ],
      "execution_count": null,
      "outputs": [
        {
          "output_type": "execute_result",
          "data": {
            "text/plain": [
              "{'capitalExpenditures': -1177000000,\n",
              " 'changeInCash': 373000000,\n",
              " 'changeToLiabilities': 0,\n",
              " 'changeToNetincome': -129000000,\n",
              " 'changeToOperatingActivities': 690000000,\n",
              " 'depreciation': 1536000000,\n",
              " 'dividendsPaid': -7047000000,\n",
              " 'effectOfExchangeRate': 76000000,\n",
              " 'endDate': 1609372800,\n",
              " 'investments': 252000000,\n",
              " 'issuanceOfStock': 647000000,\n",
              " 'netBorrowings': -1862000000,\n",
              " 'netIncome': 7747000000,\n",
              " 'otherCashflowsFromFinancingActivities': 310000000,\n",
              " 'otherCashflowsFromInvestingActivities': 122000000,\n",
              " 'repurchaseOfStock': -118000000,\n",
              " 'totalCashFromFinancingActivities': -8070000000,\n",
              " 'totalCashFromOperatingActivities': 9844000000,\n",
              " 'totalCashflowsFromInvestingActivities': -1477000000}"
            ]
          },
          "metadata": {
            "tags": []
          },
          "execution_count": 28
        }
      ]
    },
    {
      "cell_type": "markdown",
      "metadata": {
        "id": "YKCb-B8T4PfJ"
      },
      "source": [
        "# Extracting Profile Data"
      ]
    },
    {
      "cell_type": "markdown",
      "metadata": {
        "id": "yXE7IRARq2GR"
      },
      "source": [
        " Simply copying and pasting what we have already done and changing the url to profile url"
      ]
    },
    {
      "cell_type": "code",
      "metadata": {
        "id": "c7V6SEFsq0wY"
      },
      "source": [
        ""
      ],
      "execution_count": null,
      "outputs": []
    }
  ]
}