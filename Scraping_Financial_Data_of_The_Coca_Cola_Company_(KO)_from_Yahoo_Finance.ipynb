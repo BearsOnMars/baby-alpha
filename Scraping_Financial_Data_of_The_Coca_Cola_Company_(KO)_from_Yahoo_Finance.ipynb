{
  "nbformat": 4,
  "nbformat_minor": 0,
  "metadata": {
    "colab": {
      "name": "Scraping Financial Data of The Coca-Cola Company (KO) from Yahoo Finance.ipynb",
      "provenance": [],
      "collapsed_sections": [],
      "authorship_tag": "ABX9TyNIf2ke19ZsOfU1YXirx/za",
      "include_colab_link": true
    },
    "kernelspec": {
      "name": "python3",
      "display_name": "Python 3"
    }
  },
  "cells": [
    {
      "cell_type": "markdown",
      "metadata": {
        "id": "view-in-github",
        "colab_type": "text"
      },
      "source": [
        "<a href=\"https://colab.research.google.com/github/BearsOnMars/baby-alpha/blob/main/Scraping_Financial_Data_of_The_Coca_Cola_Company_(KO)_from_Yahoo_Finance.ipynb\" target=\"_parent\"><img src=\"https://colab.research.google.com/assets/colab-badge.svg\" alt=\"Open In Colab\"/></a>"
      ]
    },
    {
      "cell_type": "markdown",
      "metadata": {
        "id": "RxYw4s4zZuqt"
      },
      "source": [
        "Scraping data using 'hidden APIs' method and 'extracting embedded json formatted data' method. These can be easily converted to a python dictionary. Standard libraries are used"
      ]
    },
    {
      "cell_type": "code",
      "metadata": {
        "id": "wsIPFEQ1TbMr"
      },
      "source": [
        "import re\r\n",
        "import json\r\n",
        "import csv\r\n",
        "from io import StringIO\r\n",
        "# Installing Beautiful Soup and Requests package. Note the exclamation mark at the beginning\r\n",
        "# In Google Colab, we can run a console command by starting with a ! followed by the command\r\n",
        "!pip install bs4\r\n",
        "!pip install requests\r\n",
        "from bs4 import BeautifulSoup\r\n",
        "import requests"
      ],
      "execution_count": null,
      "outputs": []
    },
    {
      "cell_type": "markdown",
      "metadata": {
        "id": "VTX3QP3TZMOz"
      },
      "source": [
        "Going to Yahoo Finance now, entering relevant stock ticker in search. Data can be extracted for any tab i.e. statistics, historical data, financials, options. went and searched for The Coca-Cola company. copying the url for the tabs we are interested in scraping. In place of the stock ticker symbol such as KO for Coca-Cola in these similar looking urls, if we use {}, it becomes easier at later stages to insert any new symbol with string formatting at a later stage."
      ]
    },
    {
      "cell_type": "code",
      "metadata": {
        "id": "gvBGM-RuU0uP"
      },
      "source": [
        "url_stats = 'https://finance.yahoo.com/quote/{}/key-statistics?p={}'\r\n",
        "url_profile = 'https://finance.yahoo.com/quote/{}/profile?p={}'\r\n",
        "url_financials = 'https://finance.yahoo.com/quote/{}/financials?p={}'"
      ],
      "execution_count": 3,
      "outputs": []
    },
    {
      "cell_type": "code",
      "metadata": {
        "id": "KW-VF7TFZR0d"
      },
      "source": [
        "# Assigning KO to stock Coca Cola so as to look it up on Yahoo finance for the ticker\r\n",
        "stock = 'KO'"
      ],
      "execution_count": 4,
      "outputs": []
    },
    {
      "cell_type": "markdown",
      "metadata": {
        "id": "VYfiEp9_Z7H1"
      },
      "source": [
        "Scraping Financial Statements. Using git request(?) even data which can not be seen in the website can be downloaded. Using financials url template to request the stock data using request library. Response is assigned to a response variable"
      ]
    },
    {
      "cell_type": "code",
      "metadata": {
        "id": "FXTLoWkZe3Ea"
      },
      "source": [
        "response = requests.get(url_financials.format(stock, stock))"
      ],
      "execution_count": 5,
      "outputs": []
    },
    {
      "cell_type": "code",
      "metadata": {
        "id": "Hp4YR1-gfB1a"
      },
      "source": [
        "# HTML data is parsed using BeautifulSoup and default HTML parser\r\n",
        "soup = BeautifulSoup(response.text, 'html.parser')"
      ],
      "execution_count": 6,
      "outputs": []
    },
    {
      "cell_type": "markdown",
      "metadata": {
        "id": "fklGx9mOaGaZ"
      },
      "source": [
        "Going back to the webpage now to look at raw data by right-click 'view page source'. The webpage is dynamically loading data from the javascript function contained within the script tag. The comment /* -- Data --*/ contains all data which is dynamically being loaded on to the page. Since, the data is embedded in a javascript function, we need to get the script tag first, then extract the contents from it, chop the edges off so that we are just left with the json formatted string, which can then be converted to a python dictionary. There is no unique id tag for the script, so we need to use a text pattern with regular expressions"
      ]
    },
    {
      "cell_type": "code",
      "metadata": {
        "id": "gba1SlApf49a"
      },
      "source": [
        "pattern = re.compile(r'\\s--\\sData\\s--\\s')"
      ],
      "execution_count": 7,
      "outputs": []
    },
    {
      "cell_type": "markdown",
      "metadata": {
        "id": "LSFYF2XVaZ1b"
      },
      "source": [
        "using this pattern now find the script element that has text which matches this pattern. return the contents of this element as a list. grab the first and only item in the list\r\n"
      ]
    },
    {
      "cell_type": "code",
      "metadata": {
        "id": "x6fzQRkCaZKN"
      },
      "source": [
        "script_data = soup.find('script', text=pattern).contents[0]"
      ],
      "execution_count": 8,
      "outputs": []
    },
    {
      "cell_type": "code",
      "metadata": {
        "id": "u3u6cWhmlR7m"
      },
      "source": [
        "# Printing the beginning and the ending 500 characters of the script data\r\n",
        "# Notice the colon at start in beginning \r\n",
        "script_data[:500]"
      ],
      "execution_count": null,
      "outputs": []
    },
    {
      "cell_type": "code",
      "metadata": {
        "id": "AYSUa0cEmvj9"
      },
      "source": [
        "# Notice the negative sign and the colon at the end while printing ending\r\n",
        "script_data[-500:]"
      ],
      "execution_count": null,
      "outputs": []
    },
    {
      "cell_type": "markdown",
      "metadata": {
        "id": "8YqSpnKgaoM4"
      },
      "source": [
        "The problem now is that we have this javascript code wrapping the data which we actually want. To do that we need to find the boundaries of this slice. We can see in the beginning 500 char, it starts with \"context\" the starting position would be 2 characters behind the beginning of the word 'context'"
      ]
    },
    {
      "cell_type": "code",
      "metadata": {
        "id": "79U_g6rQmhzr"
      },
      "source": [
        "start = script_data.find(\"context\")-2"
      ],
      "execution_count": 11,
      "outputs": []
    },
    {
      "cell_type": "markdown",
      "metadata": {
        "id": "ND9yseO2dloT"
      },
      "source": [
        "the ending position would be 12 characters from the end. After that patch this sliced text into the json loads function, to get a python dictionary back"
      ]
    },
    {
      "cell_type": "code",
      "metadata": {
        "id": "KbE8RGbGo4rC"
      },
      "source": [
        "json_data = json.loads(script_data[start:-12])"
      ],
      "execution_count": 12,
      "outputs": []
    },
    {
      "cell_type": "code",
      "metadata": {
        "id": "XIWKvvmBpaEY"
      },
      "source": [
        "# Using the keys method, it could be found where data for financial statements is loacted in the context, dispacher, stores and QuoteSummaryStore\r\n",
        "json_data['context'].keys()"
      ],
      "execution_count": null,
      "outputs": []
    },
    {
      "cell_type": "code",
      "metadata": {
        "id": "e1mbuZtlqsTB"
      },
      "source": [
        "json_data['context']['dispatcher']['stores']['QuoteSummaryStore'].keys()"
      ],
      "execution_count": null,
      "outputs": []
    },
    {
      "cell_type": "code",
      "metadata": {
        "id": "diDXiLzurzoC"
      },
      "source": [
        "annual_is = json_data['context']['dispatcher']['stores']['QuoteSummaryStore']['incomeStatementHistory']['incomeStatementHistory']\r\n",
        "quarterly_is = json_data['context']['dispatcher']['stores']['QuoteSummaryStore']['incomeStatementHistoryQuarterly']['incomeStatementHistory']\r\n",
        "\r\n",
        "annual_cf = json_data['context']['dispatcher']['stores']['QuoteSummaryStore']['cashflowStatementHistory']['cashflowStatements']\r\n",
        "quarterly_cf = json_data['context']['dispatcher']['stores']['QuoteSummaryStore']['cashflowStatementHistoryQuarterly']['cashflowStatements']\r\n",
        "\r\n",
        "annual_bs = json_data['context']['dispatcher']['stores']['QuoteSummaryStore']['balanceSheetHistory']['balanceSheetStatements']\r\n",
        "quarterly_bs = json_data['context']['dispatcher']['stores']['QuoteSummaryStore']['balanceSheetHistoryQuarterly']['balanceSheetStatements']"
      ],
      "execution_count": 15,
      "outputs": []
    },
    {
      "cell_type": "markdown",
      "metadata": {
        "id": "HTqff4VZkdi2"
      },
      "source": [
        "Exploring income statement variable to discern the pattern and basing the rest of the code on it"
      ]
    },
    {
      "cell_type": "code",
      "metadata": {
        "id": "gDrcgwa1jmKy"
      },
      "source": [
        "print(annual_is[0])"
      ],
      "execution_count": null,
      "outputs": []
    },
    {
      "cell_type": "markdown",
      "metadata": {
        "id": "cndSOk57kzoc"
      },
      "source": [
        "Each statement contains a list of dictionary that contain account name and variety of number formats"
      ]
    },
    {
      "cell_type": "code",
      "metadata": {
        "id": "8feFHISaj8AF"
      },
      "source": [
        "annual_is[0]['operatingIncome']"
      ],
      "execution_count": null,
      "outputs": []
    },
    {
      "cell_type": "markdown",
      "metadata": {
        "id": "I5wZ1-mVlXm0"
      },
      "source": [
        "Using 'for' loop to consolidate account and raw number format. As some of these accounts do not contain data or dictionary, we need to handle the resulting TypeError and KeyError. Take care of indentation levels in a for loop"
      ]
    },
    {
      "cell_type": "code",
      "metadata": {
        "id": "AB_uqx7eliu4"
      },
      "source": [
        "annual_is_stmts = []\r\n",
        "\r\n",
        "# consolidate annual\r\n",
        "for s in annual_is:\r\n",
        "    statement = {}\r\n",
        "    for key, val in s.items():\r\n",
        "        try:\r\n",
        "            statement[key] = val['raw']\r\n",
        "        except TypeError:\r\n",
        "            continue\r\n",
        "        except KeyError:\r\n",
        "            continue\r\n",
        "    annual_is_stmts.append(statement)"
      ],
      "execution_count": 18,
      "outputs": []
    },
    {
      "cell_type": "markdown",
      "metadata": {
        "id": "svfECfnwnsYv"
      },
      "source": [
        "Using a for loop only the data which is needed can be extracted and exported to a csv file"
      ]
    },
    {
      "cell_type": "code",
      "metadata": {
        "id": "I9ByScGPn3Jx"
      },
      "source": [
        "annual_is_stmts[0]"
      ],
      "execution_count": null,
      "outputs": []
    },
    {
      "cell_type": "markdown",
      "metadata": {
        "id": "0Hiw0BpEoGgO"
      },
      "source": [
        "Now Replicating this template for other Financial Statements as well by simply changing variable names and references"
      ]
    },
    {
      "cell_type": "code",
      "metadata": {
        "id": "fJy2VS_WoOQJ"
      },
      "source": [
        "annual_cf_stmts = []\r\n",
        "quarterly_cf_stmts = []\r\n",
        "\r\n",
        "# annual cash flow statement\r\n",
        "for s in annual_cf:\r\n",
        "    statement = {}\r\n",
        "    for key, val in s.items():\r\n",
        "        try:\r\n",
        "            statement[key] = val['raw']\r\n",
        "        except TypeError:\r\n",
        "            continue\r\n",
        "        except KeyError:\r\n",
        "            continue\r\n",
        "    annual_cf_stmts.append(statement)\r\n",
        "\r\n",
        "# quarterly cash flow statement\r\n",
        "for s in quarterly_cf:\r\n",
        "    statement = {}\r\n",
        "    for key, val in s.items():\r\n",
        "        try:\r\n",
        "            statement[key] = val['raw']\r\n",
        "        except TypeError:\r\n",
        "            continue\r\n",
        "        except KeyError:\r\n",
        "            continue\r\n",
        "    quarterly_cf_stmts.append(statement)"
      ],
      "execution_count": 20,
      "outputs": []
    },
    {
      "cell_type": "code",
      "metadata": {
        "id": "3HX2PWKnqM0z"
      },
      "source": [
        "annual_cf_stmts[0]"
      ],
      "execution_count": null,
      "outputs": []
    },
    {
      "cell_type": "markdown",
      "metadata": {
        "id": "YKCb-B8T4PfJ"
      },
      "source": [
        "# Extracting Profile Data"
      ]
    },
    {
      "cell_type": "markdown",
      "metadata": {
        "id": "yXE7IRARq2GR"
      },
      "source": [
        " Simply copying and pasting what we have already done and changing the url to profile url"
      ]
    },
    {
      "cell_type": "code",
      "metadata": {
        "id": "YF3_QLJPsgkS"
      },
      "source": [
        "response = requests.get(url_profile.format(stock, stock))\r\n",
        "soup = BeautifulSoup(response.text, 'html.parser')\r\n",
        "pattern = re.compile(r'\\s--\\sData\\s--\\s')\r\n",
        "script_data = soup.find('script', text=pattern).contents[0]\r\n",
        "start = script_data.find(\"context\")-2\r\n",
        "json_data = json.loads(script_data[start:-12])"
      ],
      "execution_count": 22,
      "outputs": []
    },
    {
      "cell_type": "markdown",
      "metadata": {
        "id": "HZCAbURutxgs"
      },
      "source": [
        "Most of the interesting data is stored in QuoteSummaryStore. just like before"
      ]
    },
    {
      "cell_type": "code",
      "metadata": {
        "id": "3GoyLATCtoKk"
      },
      "source": [
        "json_data['context']['dispatcher']['stores']['QuoteSummaryStore'].keys()"
      ],
      "execution_count": null,
      "outputs": []
    },
    {
      "cell_type": "code",
      "metadata": {
        "id": "yHdBUEsKuLPF"
      },
      "source": [
        "json_data['context']['dispatcher']['stores']['QuoteSummaryStore']['assetProfile'].keys()"
      ],
      "execution_count": null,
      "outputs": []
    },
    {
      "cell_type": "code",
      "metadata": {
        "id": "3VRRyxQBugMq"
      },
      "source": [
        "json_data['context']['dispatcher']['stores']['QuoteSummaryStore']['assetProfile']['companyOfficers']"
      ],
      "execution_count": null,
      "outputs": []
    },
    {
      "cell_type": "code",
      "metadata": {
        "id": "3o4KOjGjuz7t"
      },
      "source": [
        "json_data['context']['dispatcher']['stores']['QuoteSummaryStore']['assetProfile']['longBusinessSummary']"
      ],
      "execution_count": null,
      "outputs": []
    },
    {
      "cell_type": "code",
      "metadata": {
        "id": "sZGY3O_IvJv1"
      },
      "source": [
        "json_data['context']['dispatcher']['stores']['QuoteSummaryStore']['secFilings']['filings']"
      ],
      "execution_count": null,
      "outputs": []
    },
    {
      "cell_type": "code",
      "metadata": {
        "id": "sBOX8hk2vgfY"
      },
      "source": [
        "json_data['context']['dispatcher']['stores']['QuoteSummaryStore']['summaryDetail']"
      ],
      "execution_count": null,
      "outputs": []
    },
    {
      "cell_type": "markdown",
      "metadata": {
        "id": "27VafhoCv4p1"
      },
      "source": [
        "# Statistics Data\r\n",
        "Copying and Pasting the code for profile and making changes to the url"
      ]
    },
    {
      "cell_type": "code",
      "metadata": {
        "id": "VCBHaTEev0im"
      },
      "source": [
        "response = requests.get(url_stats.format(stock, stock))\r\n",
        "soup = BeautifulSoup(response.text, 'html.parser')\r\n",
        "pattern = re.compile(r'\\s--\\sData\\s--\\s')\r\n",
        "script_data = soup.find('script', text=pattern).contents[0]\r\n",
        "start = script_data.find(\"context\")-2\r\n",
        "json_data = json.loads(script_data[start:-12])"
      ],
      "execution_count": 32,
      "outputs": []
    },
    {
      "cell_type": "code",
      "metadata": {
        "id": "sPiBL8FfwiGI"
      },
      "source": [
        "json_data['context']['dispatcher']['stores']['QuoteSummaryStore']['defaultKeyStatistics']"
      ],
      "execution_count": null,
      "outputs": []
    },
    {
      "cell_type": "markdown",
      "metadata": {
        "id": "BzZj4Fa4w5lu"
      },
      "source": [
        "# Extracting Historical Stock Data\r\n",
        "Go to the historical data tab and copy the link of the download button on the top right hand side. \r\n",
        "This is an api call which can be seen from the 'query' prefix, the api version (v7 in this case) and parameters used in the query"
      ]
    },
    {
      "cell_type": "code",
      "metadata": {
        "id": "Mh9TvDbKwyVz"
      },
      "source": [
        "stock_url = 'https://query1.finance.yahoo.com/v7/finance/download/KO?period1=1582157355&period2=1613779755&interval=1d&events=history'"
      ],
      "execution_count": 38,
      "outputs": []
    },
    {
      "cell_type": "markdown",
      "metadata": {
        "id": "j8s2KTYnyIRV"
      },
      "source": [
        "Using a get request on stock url to get back csv formatted data, which can be saved in a csv file. "
      ]
    },
    {
      "cell_type": "code",
      "metadata": {
        "id": "eIGNUrc_yHaU"
      },
      "source": [
        "response = requests.get(stock_url)"
      ],
      "execution_count": 39,
      "outputs": []
    },
    {
      "cell_type": "code",
      "metadata": {
        "id": "nSgNFkQhyhj2"
      },
      "source": [
        "response.text"
      ],
      "execution_count": null,
      "outputs": []
    },
    {
      "cell_type": "markdown",
      "metadata": {
        "id": "VdPOwn6byvEb"
      },
      "source": [
        "This api can be customised to see different time intervals or granularity of time. \r\n",
        "To do that we need to split the query parameter from the url and put the query parameter into a python dictionary."
      ]
    },
    {
      "cell_type": "code",
      "metadata": {
        "id": "emoaZn_Ayjyu"
      },
      "source": [
        "stock_url = 'https://query1.finance.yahoo.com/v7/finance/download/KO?'\r\n",
        "\r\n",
        "params = {\r\n",
        "    'period1':'1582157355',\r\n",
        "    'period2':'1613779755',\r\n",
        "    'interval':'1d',\r\n",
        "    'events':'history'\r\n",
        "}"
      ],
      "execution_count": 42,
      "outputs": []
    },
    {
      "cell_type": "code",
      "metadata": {
        "id": "SzQdt33d5hSg"
      },
      "source": [
        ""
      ],
      "execution_count": null,
      "outputs": []
    },
    {
      "cell_type": "markdown",
      "metadata": {
        "id": "0ci6Km620RFC"
      },
      "source": [
        "These parameters can be customised further by removing the period parameters (which are simply time stamps), and replacing them with range parameters. In this case range is 5 years. We got a clue that we could use range from the chart tab as it had various selections available"
      ]
    },
    {
      "cell_type": "code",
      "metadata": {
        "id": "-3AuGvvZ0mOk"
      },
      "source": [
        "params = {\r\n",
        "    'range':'5y',\r\n",
        "    'interval':'1d',\r\n",
        "    'events':'history'\r\n",
        "}"
      ],
      "execution_count": 43,
      "outputs": []
    },
    {
      "cell_type": "markdown",
      "metadata": {
        "id": "cAgG325k09HD"
      },
      "source": [
        "We are requesting now 5 years of daily stock data"
      ]
    },
    {
      "cell_type": "code",
      "metadata": {
        "id": "w-77GGbk1B1-"
      },
      "source": [
        "response = requests.get(stock_url.format(stock), params=params)"
      ],
      "execution_count": 44,
      "outputs": []
    },
    {
      "cell_type": "code",
      "metadata": {
        "id": "C_DbLowJ1Q7S"
      },
      "source": [
        "response.text"
      ],
      "execution_count": null,
      "outputs": []
    },
    {
      "cell_type": "code",
      "metadata": {
        "id": "sR0oEhkP1W8y"
      },
      "source": [
        "file = StringIO(response.text)\r\n",
        "reader = csv.reader(file)\r\n",
        "data = list(reader)\r\n",
        "for row in data[:5]:\r\n",
        "    print(row)"
      ],
      "execution_count": null,
      "outputs": []
    },
    {
      "cell_type": "markdown",
      "metadata": {
        "id": "fq8jESBw2yqJ"
      },
      "source": [
        "Trying different intervals now"
      ]
    },
    {
      "cell_type": "code",
      "metadata": {
        "id": "wlKb4Ifx17Qd"
      },
      "source": [
        "params = {\r\n",
        "    'range':'5y',\r\n",
        "    'interval':'1wk',\r\n",
        "    'events':'history'\r\n",
        "}"
      ],
      "execution_count": 50,
      "outputs": []
    },
    {
      "cell_type": "code",
      "metadata": {
        "id": "L348KglB27gv"
      },
      "source": [
        "response = requests.get(stock_url.format(stock), params=params)"
      ],
      "execution_count": 51,
      "outputs": []
    },
    {
      "cell_type": "code",
      "metadata": {
        "id": "YK504sic3NWP"
      },
      "source": [
        "file = StringIO(response.text)\r\n",
        "reader = csv.reader(file)\r\n",
        "data = list(reader)\r\n",
        "for row in data[:5]:\r\n",
        "    print(row)"
      ],
      "execution_count": null,
      "outputs": []
    },
    {
      "cell_type": "markdown",
      "metadata": {
        "id": "do5l3zmI30xz"
      },
      "source": [
        "To find hidden apis, take a look at network activity on the webpage and investigate. Open up the developer tools (Right click -> Inspect) in the Summary page.\r\n",
        "Go to the Network tab. If there are any apis calls being made, they will show up here, specifically under XHR. XHR is a javascript object that is used to transfer data between our browser and web server. \r\n",
        "Click on some items and a new screen displays Headers and Response. Look for a response that appears to be in a json formatted strings. \r\n",
        "Then go to the Headers to check what calls are being made, and also what parameters are being used in that api call. \r\n",
        "Make a mistake and experiment. It is possible that an api would give a feedback which could be used then."
      ]
    }
  ]
}